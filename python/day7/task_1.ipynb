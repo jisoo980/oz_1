{
 "cells": [
  {
   "cell_type": "markdown",
   "metadata": {},
   "source": [
    "사용자로부터 두 개의 숫자를 입력받아 나눗셈을 수행하는 프로그램을 작성하세요. \n",
    "\n",
    "[예외처리]\n",
    "- 입력 값이 숫자가 아닐 때 발생할 수 있는 ValueError\n",
    "- 나누는 수가 0일 때 발생할 수 있는 ZeroDivisionError\n",
    "- 위 2가지 예외처리 후 사용자에게 이해하기 쉬운 메시지 작성 후 출력되도록 코드를 작성"
   ]
  },
  {
   "cell_type": "code",
   "execution_count": 8,
   "metadata": {},
   "outputs": [
    {
     "name": "stdout",
     "output_type": "stream",
     "text": [
      "입력하신 숫자가 0 이거나 정수형태가 아닙니다.정수형대로 숫자를 입력해주세요.\n"
     ]
    }
   ],
   "source": [
    "#두개의 숫자를 정수형으로 입력받는다. split() 으로 구분해주기. \n",
    "#입력받은 두수를 나눈다\n",
    "#나눈 값을 출력한다\n",
    "#입력값이 정수가 아닐때 발생하는 VALUEerror를 예외처리한다메세지를 출력한다\n",
    "#나누는 수가 0일때 발생하는 zerodivisionerror를 예외처리한다\n",
    "try:\n",
    "    num1,num2=map(int,input('두개의 숫자를 입력해 주세요.').split(\" \"))\n",
    "    print(f'두수를 나눈 결과는 : {num1/num2}입니다.')\n",
    "except:\n",
    "    print('두번째 숫자가 0 이거나 정수형태가 아닙니다.정수형대로 숫자를 입력해주세요.')\n"
   ]
  }
 ],
 "metadata": {
  "kernelspec": {
   "display_name": "Python 3",
   "language": "python",
   "name": "python3"
  },
  "language_info": {
   "codemirror_mode": {
    "name": "ipython",
    "version": 3
   },
   "file_extension": ".py",
   "mimetype": "text/x-python",
   "name": "python",
   "nbconvert_exporter": "python",
   "pygments_lexer": "ipython3",
   "version": "3.9.6"
  }
 },
 "nbformat": 4,
 "nbformat_minor": 2
}
