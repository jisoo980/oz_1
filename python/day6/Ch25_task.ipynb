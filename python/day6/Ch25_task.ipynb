{
 "cells": [
  {
   "cell_type": "markdown",
   "metadata": {},
   "source": [
    "두 개의 정수를 받아 합을 반환하는 함수 add를 작성하세요. 매개변수와 반환값에 타입 어노테이션을 추가하세요."
   ]
  },
  {
   "cell_type": "markdown",
   "metadata": {},
   "source": [
    "def add():\n",
    "    integer1:str=int(input('첫번째 정수를 입력해주세요.'))  \n",
    "    integer2:str=int(input('두번째 정수를 입력해주세요.'))\n",
    "    return integer1+integer2\n",
    "add()\n"
   ]
  }
 ],
 "metadata": {
  "language_info": {
   "name": "python"
  }
 },
 "nbformat": 4,
 "nbformat_minor": 2
}
