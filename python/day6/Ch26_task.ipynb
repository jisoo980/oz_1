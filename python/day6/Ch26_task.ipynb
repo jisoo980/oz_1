{
 "cells": [
  {
   "cell_type": "markdown",
   "metadata": {},
   "source": [
    "0부터 시작하여 n까지의 숫자 중에서 홀수만 생성하는 제너레이터 odd_numbers를 작성하세요."
   ]
  },
  {
   "cell_type": "markdown",
   "metadata": {},
   "source": [
    "def odd_numbers():\n",
    "    for i in range(10):\n",
    "        if i%2 != 0:\n",
    "            print(i)\n",
    "            yield (i)\n",
    "result= odd_numbers()\n",
    "x=next(result)\n",
    "print(x)"
   ]
  }
 ],
 "metadata": {
  "language_info": {
   "name": "python"
  }
 },
 "nbformat": 4,
 "nbformat_minor": 2
}
