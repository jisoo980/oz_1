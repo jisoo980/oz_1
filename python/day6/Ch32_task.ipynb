{
 "cells": [
  {
   "cell_type": "markdown",
   "metadata": {},
   "source": [
    "두 문자열을 받아서 긴 문자열을 반환하는 함수 longer_string을 작성하세요. 만약 두 문자열의 길이가 같다면, 첫 번째 문자열을 반환하세요."
   ]
  },
  {
   "cell_type": "markdown",
   "metadata": {},
   "source": [
    "def longer_string():\n",
    "    string1=input('문자열을 입력하세요.')\n",
    "    string2=input('문자열을 입력하세요.')\n",
    "    if len(string1)>len(string2):\n",
    "        print(string1)\n",
    "    elif len(string1)<len(string2):\n",
    "        print(string2)\n",
    "    if len(string1)==len(string2):\n",
    "        print(string1)\n",
    "\n",
    "longer_string()\n"
   ]
  }
 ],
 "metadata": {
  "language_info": {
   "name": "python"
  }
 },
 "nbformat": 4,
 "nbformat_minor": 2
}
