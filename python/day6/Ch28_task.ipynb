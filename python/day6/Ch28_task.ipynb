{
 "cells": [
  {
   "cell_type": "markdown",
   "metadata": {},
   "source": [
    "사용자로부터 3개의 숫자를 입력받아, 이를 튜플로 만든 후 최소값과 최대값을 출력하는 함수 min_max를 작성하세요."
   ]
  },
  {
   "cell_type": "markdown",
   "metadata": {},
   "source": [
    "def min_max():\n",
    "    num1=int(input('숫자를 입력하세요.'))\n",
    "    num2=int(input('숫자를 입력하세요.'))\n",
    "    num3=int(input('숫자를 입력하세요.'))\n",
    "    tuple_num=(num1,num2,num3)\n",
    "    max_num=max(tuple_num)\n",
    "    min_num=min(tuple_num)\n",
    "    print(f'최대값: {max_num}, 최소값: {min_num}')\n",
    "\n",
    "min_max()\n"
   ]
  }
 ],
 "metadata": {
  "language_info": {
   "name": "python"
  }
 },
 "nbformat": 4,
 "nbformat_minor": 2
}
